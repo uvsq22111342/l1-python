{
 "cells": [
  {
   "cell_type": "markdown",
   "metadata": {},
   "source": [
    "# Instructions Générales\n",
    "\n",
    "Ce TD est à faire en créant un fichier td3.py, que vous éditerez dans VSCode. \n",
    "Vous ne remplirez pas les cellules de ce notebook, mais vous les copierez au fur et à mesure \n",
    "dans votre fichier pour les compléter.\n",
    "\n",
    "Vous respecterez au mieux les règles d'écriture de code, en particulier chaque fonction devra avoir un **docstring** et des commentaires si nécessaire et les noms de variable seront illustratifs de leur usage. Vous utiliserez les outils de débogage (flake8, mypy, debugger, pythontutor ...) pour corriger vos bogues."
   ]
  },
  {
   "cell_type": "markdown",
   "metadata": {},
   "source": [
    "# Gestion du temps\n",
    "\n",
    "Nous allons créer un petit logiciel de gestion du temps et des dates.\n",
    "Pour cela nous aurons besoin de créer un certain nombre de fonctions utilitaires.\n",
    "\n",
    "Un temps a le format suivant: (jour: int, heure: int, minute: int, seconde: int).\n",
    "C'est un tuple de 4 éléments. Par exemple (4, 3, 13, 20) correspond à 4 jours, 3 heures, 13 minutes et 20 secondes.\n",
    "Si on a une variable temps = (4, 3, 13, 20), pour accéder au premier élément on fait temps\\[0\\] ce qui donne 4,\n",
    "le nombre de jours.\n",
    "\n",
    "Créer la fonction qui prend comme argument le temps et renvoie le nombre de seconde total correspondant à ce temps.\n",
    "Créer la fonction qui prend un nombre de secondes et renvoie le temps correspondant."
   ]
  },
  {
   "cell_type": "code",
   "execution_count": 5,
   "metadata": {},
   "outputs": [
    {
     "name": "stdout",
     "output_type": "stream",
     "text": [
      "<class 'tuple'>\n",
      "342094\n",
      "1 jours 3 heures 46 minutes 40 secondes\n"
     ]
    }
   ],
   "source": [
    "#temps[0] : jours, temps[1]: heures, temps[2]: minutes, temps[3]: secondes\n",
    "\n",
    "def tempsEnSeconde(temps):\n",
    "    \"\"\" Renvoie la valeur en seconde de temps donné comme jour, heure, minute, seconde.\"\"\"\n",
    "    return temps[0] * 24 * 3600 + temps[1] * 3600 + temps[2] * 60 + temps[3]\n",
    "\n",
    "temps = (3,23,1,34)\n",
    "print(type(temps))\n",
    "print(tempsEnSeconde(temps))   \n",
    "\n",
    "def secondeEnTemps(secondes):\n",
    "    \"\"\"Renvoie le temps (jour, heure, minute, seconde) qui correspond au nombre de seconde passé en argument\"\"\"\n",
    "    j = secondes // (24 * 3600)\n",
    "    h = secondes % (24 * 3600) // 3600\n",
    "    min = (secondes % (24 * 3600)) % 3600 // 60\n",
    "    secondes = (secondes % (24 * 3600)) % 3600 % 60\n",
    "    return (j, h, min, secondes)\n",
    "\n",
    "\n",
    "    \n",
    "temps = secondeEnTemps(100000)\n",
    "print(temps[0],\"jours\",temps[1],\"heures\",temps[2],\"minutes\",temps[3],\"secondes\")"
   ]
  },
  {
   "cell_type": "markdown",
   "metadata": {},
   "source": [
    "Créer une fonction d'affichage d'un temps `afficheTemps`. Attention, les mots jour, heure et seconde doivent être au pluriel s'il y en a plusieurs. S'il y en a zéro, ils ne doivent pas apparaître.\n",
    "`print(message, end=\"\")` permet de ne pas sauter une ligne après un print. \n",
    "Vous pouvez écrire une fonction qui affiche un mot au pluriel ou non, appelée ensuite plusieurs fois par `afficheTemps` pour simplifier votre code.\n"
   ]
  },
  {
   "cell_type": "code",
   "execution_count": 6,
   "metadata": {},
   "outputs": [
    {
     "name": "stdout",
     "output_type": "stream",
     "text": [
      "1 jour, 14 minutes, 23 secondes, "
     ]
    }
   ],
   "source": [
    "#fonction auxiliaire ici\n",
    "\n",
    "def afficheTemps(temps):\n",
    "    if temps[0] == 1:\n",
    "        print(temps[0], \"jour, \", end = \"\")\n",
    "    elif temps[0] > 1:\n",
    "        print(temps[0], \"jours, \", end = \"\")\n",
    "    if temps[1] == 1:\n",
    "        print(temps[1], \"heure, \", end = \"\")\n",
    "    elif temps[1] > 1:\n",
    "        print(temps[1], \"heures, \", end = \"\")\n",
    "    if temps[2] == 1:\n",
    "        print(temps[2], \"minute, \", end = \"\")\n",
    "    elif temps[2] > 1:\n",
    "        print(temps[2], \"minutes, \", end = \"\")\n",
    "    if temps[3] == 1:\n",
    "        print(temps[3], \"seconde, \", end = \"\")\n",
    "    elif temps[3] > 1:\n",
    "        print(temps[3], \"secondes, \", end = \"\")\n",
    "    \n",
    "afficheTemps((1,0,14,23))    "
   ]
  },
  {
   "cell_type": "markdown",
   "metadata": {},
   "source": [
    "Ecrire une fonction qui demande à l'utilisateur de rentrer un nombre de jours, d'heures, de minutes et\n",
    "de secondes et qui renvoie un temps. Attention, si l'entrée utilisateur n'est pas correcte, par exemple 80 minutes,\n",
    "afficher un message d'erreur et s'arrêter.\n",
    "\n",
    "(Optionnel) Au lieu d'arêter le programme, demander de rentrer une nouvelle valeur, tant que \n",
    "ce n'est pas une valeur correcte."
   ]
  },
  {
   "cell_type": "code",
   "execution_count": 7,
   "metadata": {},
   "outputs": [
    {
     "name": "stdout",
     "output_type": "stream",
     "text": [
      "1 jour, 1 heure, 1 minute, 1 seconde, "
     ]
    }
   ],
   "source": [
    "def demandeTemps():\n",
    "    j = input(\"Taper un nombre de jours \")\n",
    "    h = input(\"Taper un nombre d'heures \")\n",
    "    while int(h) >= 24:\n",
    "        h = input(\"Taper un nombre d'heures \")\n",
    "    m = input(\"Taper un nombre de minutes \")\n",
    "    while int(m) >= 60:\n",
    "        m = input(\"Taper un nombre de minutes \")\n",
    "    s = input(\"Taper un nombre de secondes\")\n",
    "    while int(s) >= 60:\n",
    "        s = input(\"Taper un nombre de secondes \")\n",
    "    return(int(j), int(h), int(m), int(s))\n",
    "\n",
    "afficheTemps(demandeTemps())"
   ]
  },
  {
   "cell_type": "markdown",
   "metadata": {},
   "source": [
    "On veut être capable d'additionner deux temps. Donner une fonction qui fait ce calcul,\n",
    "en utilisant les fonctions précédentes."
   ]
  },
  {
   "cell_type": "code",
   "execution_count": 8,
   "metadata": {},
   "outputs": [
    {
     "data": {
      "text/plain": [
       "(8, 2, 1, 26)"
      ]
     },
     "execution_count": 8,
     "metadata": {},
     "output_type": "execute_result"
    }
   ],
   "source": [
    "def sommeTemps(temps1, temps2):\n",
    "    return secondeEnTemps(tempsEnSeconde(temps1) + tempsEnSeconde(temps2))\n",
    "\n",
    "sommeTemps((2,3,4,25),(5,22,57,1))"
   ]
  },
  {
   "cell_type": "markdown",
   "metadata": {},
   "source": [
    "On veut maintenant calculer un pourcentage d'un temps. Par exemple, 20% de\n",
    "2 jours et 36 minutes correspond à 9 heures, 43 minutes et 12 secondes.\n",
    "\n",
    "Implémenter la fonction `proportionTemps` puis appeler cette fonction en échangeant l'ordre des arguments mais en les nommant."
   ]
  },
  {
   "cell_type": "code",
   "execution_count": 9,
   "metadata": {},
   "outputs": [
    {
     "name": "stdout",
     "output_type": "stream",
     "text": [
      "9.0 heures, 43.0 minutes, 12.0 secondes, "
     ]
    }
   ],
   "source": [
    "def proportionTemps(temps = (0, 0, 0, 0), proportion = 0.1):\n",
    "    return secondeEnTemps(tempsEnSeconde(temps) * proportion)\n",
    "afficheTemps(proportionTemps((2,0,36,0),0.2))\n",
    "#appeler la fonction en échangeant l'ordre des arguments"
   ]
  },
  {
   "cell_type": "markdown",
   "metadata": {},
   "source": [
    "On veut maintenant afficher un temps sous forme de date, en supposant \n",
    "que le temps 0 est le 1 janvier 1970 à 00:00:00.\n",
    "\n",
    "* Implémenter une fonction `tempsEnDate`qui donne la date sous la forme (année, jour, heure, minute, seconde).\n",
    "* Implémenter la fonction `afficheDate`qui affiche la date. \n",
    "* (Optionnel) Gérer également les mois."
   ]
  },
  {
   "cell_type": "code",
   "execution_count": 14,
   "metadata": {},
   "outputs": [
    {
     "name": "stdout",
     "output_type": "stream",
     "text": [
      "11574 jours, 1 heure, 46 minutes, 40 secondes, 17 Septembre 2001 à 1 : 46 :  40\n"
     ]
    }
   ],
   "source": [
    "def tempsEnDate(temps):\n",
    "    \"\"\" Prends en argument un tuple de quatre éléments et renvoie la date du temps écoulé\"\"\"\n",
    "    ans = 1970 + (temps[0] // 365)\n",
    "    jour = temps[0] % 365\n",
    "    h = temps[1]\n",
    "    m = temps[2]\n",
    "    s = temps[3]\n",
    "    return (ans, jour, h, m, s)\n",
    "\n",
    "def afficheDate(date):\n",
    "    t = date\n",
    "    if t[1] < 31:\n",
    "        print(t[1], \"Janvier\", end = \"\")\n",
    "    elif t[1] < 59:\n",
    "        print(t[1] - 31, \"Février\", end = \"\")\n",
    "    elif t[1] < 90:\n",
    "        print(t[1] - 59, \"Mars\", end = \"\")\n",
    "    elif t[1] < 120:\n",
    "        print(t[1] - 90, \"Avril\", end = \"\")\n",
    "    elif t[1] < 151:\n",
    "        print(t[1] - 120, \"Mai\", end = \"\")\n",
    "    elif t[1] < 181:\n",
    "        print(t[1] - 151, \"Juin\", end = \"\")\n",
    "    elif t[1] < 212:\n",
    "        print(t[1] - 181, \"Juillet\", end = \"\")\n",
    "    elif t[1] < 242:\n",
    "        print(t[1] - 212, \"Août\", end = \"\")\n",
    "    elif t[1] < 273:\n",
    "        print(t[1] - 242, \"Septembre\", end = \"\")\n",
    "    elif t[1] < 303:\n",
    "        print(t[1] - 273, \"Octobre\", end = \"\")\n",
    "    elif t[1] < 334:\n",
    "        print(t[1] - 303, \" Novembre\", end = \"\")\n",
    "    elif t[1] < 364:\n",
    "        print(t[1] - 334, \"Décembre\", end = \"\")\n",
    "    print(\"\",t[0], \"à\", t[2], \":\", t[3], \": \", t[4])\n",
    "    \n",
    "temps = secondeEnTemps(1000000000)\n",
    "afficheTemps(temps)\n",
    "afficheDate(tempsEnDate(temps))"
   ]
  },
  {
   "cell_type": "markdown",
   "metadata": {},
   "source": [
    "Il existe des fonctions dans la librairie `time` pour la gestion du temps. En particulier, il existe\n",
    "une fonction `time` qui donne le temps écoulé depuis 1970 en secondes. \n",
    "La trouver avec la [documentation python](https://docs.python.org/fr/3/library/time.html#module-time) et la tester en utilisant `afficheDate`. \n",
    "Tester de la même manière la fonction `time.gmtime` qui réalise une tâche similaire à `tempsEnDate`.\n",
    "Que constatez vous ?"
   ]
  },
  {
   "cell_type": "code",
   "execution_count": 18,
   "metadata": {},
   "outputs": [
    {
     "name": "stdout",
     "output_type": "stream",
     "text": [
      "time.struct_time(tm_year=2001, tm_mon=9, tm_mday=9, tm_hour=1, tm_min=46, tm_sec=40, tm_wday=6, tm_yday=252, tm_isdst=0)\n",
      "time.struct_time(tm_year=2001, tm_mon=9, tm_mday=9, tm_hour=3, tm_min=46, tm_sec=40, tm_wday=6, tm_yday=252, tm_isdst=1)\n"
     ]
    }
   ],
   "source": [
    "import time\n",
    "print(time.gmtime(1000000000))\n",
    "print(time.localtime(1000000000))"
   ]
  },
  {
   "cell_type": "markdown",
   "metadata": {},
   "source": [
    "Attention, tous les 4 ans les années sont bisextiles (un jour de plus) sauf les multiples de 100 qui ne sont pas des multiples de 400.\n",
    "Donner un code qui prend un nombre de jours et affiche toutes les années bisextiles depuis le 1er janvier 1970 à 00:00:00 jusqu'à la fin de ces jours."
   ]
  },
  {
   "cell_type": "code",
   "execution_count": 11,
   "metadata": {},
   "outputs": [
    {
     "name": "stdout",
     "output_type": "stream",
     "text": [
      "1972 , 1976 , 1980 , 1984 , 1988 , 1992 , 1996 , 2000 , 2004 , 2008 , 2012 , 2016 , 2020 , 2024 , "
     ]
    }
   ],
   "source": [
    "def bisextile(jour):\n",
    "    ans = jour // 365\n",
    "    for i in range(ans + 1):\n",
    "        if (1970 + i) % 4 == 0 and ((1970 + i) % 100 != 0 or (1970 + i) % 400 == 0):\n",
    "            print(1970 + i,\", \" , end = \"\")\n",
    "        \n",
    "bisextile(20000)"
   ]
  },
  {
   "cell_type": "markdown",
   "metadata": {},
   "source": [
    "Implémenter une fonction `nombreBisextile` qui calcule le nombre d'années bisextiles entre le 1er janvier 1970 et le nombre de jour donnés.\n",
    "Utilisez-la pour implémenter une fonction `tempsEnDateBisextile` qui fait la même chose que `tempsEnDate` mais en prenant en compte les années bisextiles."
   ]
  },
  {
   "cell_type": "code",
   "execution_count": 19,
   "metadata": {},
   "outputs": [
    {
     "name": "stdout",
     "output_type": "stream",
     "text": [
      "11574 jours, 1 heure, 46 minutes, 40 secondes, 9 Septembre 2001 à 1 : 46 :  40\n",
      "Help on function nombreBisextile in module __main__:\n",
      "\n",
      "nombreBisextile(jour)\n",
      "    Prends en argument un nombre de jours et renvoie le nombre d'années bisextilesécoulées entre le 1er janvier 1970 et le nombre de jour donnés\n",
      "\n"
     ]
    }
   ],
   "source": [
    "def nombreBisextile(jour):\n",
    "    \"\"\"Prends en argument un nombre de jours et renvoie le nombre d'années bisextiles\\\n",
    " écoulées entre le 1er janvier 1970 et le nombre de jour donnés \"\"\"\n",
    "    n = 0\n",
    "    ans = jour // 365\n",
    "    for i in range(ans + 1):\n",
    "        if (1970 + i) % 4 == 0 and ((1970 + i) % 100 != 0 or (1970 + i) % 400 == 0):\n",
    "            n += 1\n",
    "    return n\n",
    "\n",
    "def tempsEnDateBisextile(temps):\n",
    "    t = tempsEnSeconde(temps)\n",
    "    t = secondeEnTemps(t)\n",
    "    b = nombreBisextile(t[0])\n",
    "    ans = 1970 + temps[0] // 365\n",
    "    jour = temps[0] % 365 - b\n",
    "    return (ans, jour, temps[1], temps[2], temps[3])\n",
    "   \n",
    "temps = secondeEnTemps(1000000000)\n",
    "afficheTemps(temps)\n",
    "afficheDate(tempsEnDateBisextile(temps))\n",
    "help(nombreBisextile)"
   ]
  },
  {
   "cell_type": "markdown",
   "metadata": {},
   "source": [
    "Ajouter des valeurs par défaut dans le code de `afficheDate` afin de pouvoir ommettre\n",
    "l'argument de ces fonctions. Dans ce cas là, on affichera la date actuelle en utilisant la fonction `time`."
   ]
  },
  {
   "cell_type": "markdown",
   "metadata": {},
   "source": [
    "On va maintenant inspecter notre code pour améliorer sa qualité:\n",
    "\n",
    "* Regarder tous les warnings donnés par flake8 et essayer de les régler.\n",
    "* Utiliser le debugger (F5) pour étudier le fonctionnement de votre fonction nombreBisextile.\n",
    "* Mettre les annotations de type des arguments et du retour de la fonction pour nombreBisextile et une autre fonction de votre choix. Vérifier avec mypy que tout fonctionne bien."
   ]
  },
  {
   "cell_type": "markdown",
   "metadata": {},
   "source": [
    "Donner une fonction qui vérifie la charge horaire d'un employé, donnée sous forme d'une liste de temps travaillé chaque semaine dans un mois. Il ne faut pas dépasser 48h par semaine et 140h par mois (qu'on considère ici de 4 semaines).\n",
    "\n",
    "(Optionnel) S'adapter à une liste qui peut contenir plusieurs mois."
   ]
  },
  {
   "cell_type": "code",
   "execution_count": null,
   "metadata": {},
   "outputs": [],
   "source": [
    "def verifie(liste_temps):\n",
    "    pass\n",
    "\n",
    "\n",
    "liste_temps = [[1,2,39,34],[0,1,9,4],[0,29,39,51],[0,31,13,46]]\n",
    "verifie(liste_temps)"
   ]
  }
 ],
 "metadata": {
  "kernelspec": {
   "display_name": "Python 3.10.4 ('l1-python')",
   "language": "python",
   "name": "python3"
  },
  "language_info": {
   "codemirror_mode": {
    "name": "ipython",
    "version": 3
   },
   "file_extension": ".py",
   "mimetype": "text/x-python",
   "name": "python",
   "nbconvert_exporter": "python",
   "pygments_lexer": "ipython3",
   "version": "3.10.4"
  },
  "vscode": {
   "interpreter": {
    "hash": "234d98b8d49f678f8efa98d02d86d10f341fab79891a54eb49cbbe3953e52668"
   }
  }
 },
 "nbformat": 4,
 "nbformat_minor": 4
}
